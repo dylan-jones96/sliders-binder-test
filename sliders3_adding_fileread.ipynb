{
 "cells": [
  {
   "cell_type": "markdown",
   "id": "fd0d5977-918e-4744-8e92-9935388d1980",
   "metadata": {},
   "source": [
    "# First attempt at sliders: slider and plot placement\n",
    "\n",
    "I think this is a three step process:\n",
    "1. get the positioning of the sliders and a plot window working, --- DONE\n",
    "2. set up the interaction between slider values and the files read in. --- DONE\n",
    "3. plot the corresponding bands\n",
    "\n",
    "For now, I will not care about how succinct the code is, I just want to get it working. Simplifying and beautifying the code can come later.  "
   ]
  },
  {
   "cell_type": "code",
   "execution_count": 1,
   "id": "bca72bfa-09de-4336-bfd1-e10b6f250759",
   "metadata": {},
   "outputs": [],
   "source": [
    "from ipywidgets import FloatSlider, GridspecLayout, interact, interactive, Layout\n",
    "from bqplot import *\n",
    "from tables import *\n",
    "\n",
    "import bqplot as bq \n",
    "import bqplot.pyplot as plt\n",
    "import numpy as np\n",
    "# import matplotlib.pyplot as plt"
   ]
  },
  {
   "cell_type": "markdown",
   "id": "a4264700-3395-41b7-bd1d-035eb1142db7",
   "metadata": {},
   "source": [
    "## Functions\n",
    "\n",
    "1. Define `create_slider` to ... create sliders ... in the end I would like each slider to be created given lists of information, e.g., min and max values, descriptions. Then I would write a function that iterates through these lists and calls the create slider function, then add that slider to the Grid. \n",
    "2. Define `get_bands` that creates the string to access arrays in the hdf5 file from the slider values, then gets the bands data. \n",
    "3. Define `interactive_figure` which takes slider valuea and calls the `get_bands` function, then plots the bands. Currently this function redraws the figure every time the slider is updated, which is slow and inefficient. Trying to figure out how to not do this. "
   ]
  },
  {
   "cell_type": "code",
   "execution_count": 2,
   "id": "cefbe3d1-cfe2-4c3c-9004-79bf5cde0ac1",
   "metadata": {},
   "outputs": [],
   "source": [
    "def create_slider(min_val, max_val, val_step, default_val, description, layout=Layout(width='auto', height='auto')):\n",
    "    \n",
    "    return FloatSlider(min=min_val, max=max_val, step=val_step, value=default_val, \n",
    "                       description=description, layout=Layout(height='auto', width='400px'))"
   ]
  },
  {
   "cell_type": "code",
   "execution_count": 3,
   "id": "9e66f6c2-bbc6-4da1-8355-d02d5defdb9a",
   "metadata": {},
   "outputs": [],
   "source": [
    "def get_bands(potential_height, tp, tsoc, deltaU1, deltaU2):\n",
    "    \n",
    "    # Nearest-neighbour hopping parameter fixed. \n",
    "    t = -1.0\n",
    "    # For now keep potential_period fixed.\n",
    "    potential_period = 2.0\n",
    "    \n",
    "    params_path_potential = 'VL' + '{0:.0f}'.format(potential_period) + '_VH' + '{0:.3f}'.format(potential_height)\n",
    "    params_path_hoppings = '_t' + '{0:.2f}'.format(t) + '_tp' + '{0:.2f}'.format(tp) + \\\n",
    "                           '_tsoc' + '{0:.2f}'.format(tsoc)\n",
    "    params_path_onsite = '_deltaU1' + '{0:.2f}'.format(deltaU1) + '_deltaU2' + '{0:.2f}'.format(deltaU2)\n",
    "    \n",
    "    bands_filename = params_path_potential + params_path_hoppings + params_path_onsite\n",
    "    \n",
    "    bands = h5file_data.get_node('/VL2_data', 'bands_'+bands_filename)\n",
    "    \n",
    "    return bands"
   ]
  },
  {
   "cell_type": "code",
   "execution_count": 4,
   "id": "c27d42d2-15ca-4dc7-b1eb-6c6d126ab99e",
   "metadata": {},
   "outputs": [],
   "source": [
    "def interactive_figure(potential_height, tp, tsoc, deltaU1, deltaU2):\n",
    "    \n",
    "    bands = get_bands(potential_height, tp, tsoc, deltaU1, deltaU2)\n",
    "    \n",
    "    fig = plt.figure(title=r'test title')\n",
    "    \n",
    "    for band_ind in range(len(bands[0])):\n",
    "        plt.plot(k_points, bands[:, band_ind])\n",
    "        \n",
    "    plt.xlabel(r'k path')\n",
    "    plt.ylabel(r'E (eV)')\n",
    "    \n",
    "    plt.show()\n"
   ]
  },
  {
   "cell_type": "markdown",
   "id": "35c1a492-fbcd-4d73-866d-9b14feb6bba9",
   "metadata": {},
   "source": [
    "## Open HDF5 data file and set init param values\n",
    "\n",
    "Also get x-axis data with location of high-symmetry points. "
   ]
  },
  {
   "cell_type": "code",
   "execution_count": 5,
   "id": "856801a2-598b-4cf7-8b98-0df2a6861f17",
   "metadata": {},
   "outputs": [],
   "source": [
    "# Open the HDF5 file. Perhaps I shuold figure out a way to close it after user exits program/\n",
    "\n",
    "# Get the x-axis data.\n",
    "h5file_data = open_file('all_data.h5', 'r')\n",
    "k_points = h5file_data.get_node('/VL2_data', 'k_points')\n",
    "point_indices = h5file_data.get_node('/VL2_data', 'point_indices')\n",
    "tick_labels = [r'$\\Gamma$', 'X', 'M', 'Y', r'$\\Gamma$', 'M']"
   ]
  },
  {
   "cell_type": "code",
   "execution_count": 6,
   "id": "30719c4a-0851-4341-ade6-ba513bdb9bda",
   "metadata": {},
   "outputs": [],
   "source": [
    "potential_height_init = 0.0\n",
    "tp_init = -0.05\n",
    "tsoc_init = 0.0\n",
    "deltaU1_init = 0.0\n",
    "deltaU2_init = 0.0\n",
    "\n",
    "\n",
    "#plt.figure()\n",
    "#plt.plot(x, f_test(A=A_init, B=B_init, C=C_init, D=D_init, F=F_init))\n",
    "#plt.show()"
   ]
  },
  {
   "cell_type": "markdown",
   "id": "f5543cae-df20-49fd-92fd-09e120d86242",
   "metadata": {},
   "source": [
    "## Manually make sliders\n",
    "\n",
    "For now, I will just copy and paste the create_slider functions to create them all. Tidy this up later."
   ]
  },
  {
   "cell_type": "code",
   "execution_count": 7,
   "id": "e29e0035-7c49-4278-aa51-147017ec1ae5",
   "metadata": {},
   "outputs": [],
   "source": [
    "potential_height_slider = create_slider(min_val=0.0, max_val=0.5, val_step=0.1,\n",
    "                                        default_val=potential_height_init, description=r'$V_H$')\n",
    "\n",
    "tp_slider = create_slider(min_val=-0.5, max_val=0.5, val_step=0.05,\n",
    "                         default_val=tp_init, description=r\"$t'$\")\n",
    "\n",
    "tsoc_slider = create_slider(min_val=-0.2, max_val=0.2, val_step=0.1,\n",
    "                         default_val=tsoc_init, description=r'$t_{soc}$')\n",
    "\n",
    "deltaU1_slider = create_slider(min_val=-0.5, max_val=0.5, val_step=0.1,\n",
    "                               default_val=deltaU1_init, description=r'$\\Delta U_1$')\n",
    "\n",
    "deltaU2_slider = create_slider(min_val=-0.5, max_val=0.5, val_step=0.1,\n",
    "                               default_val=deltaU2_init, description=r'$\\Delta U_2$')"
   ]
  },
  {
   "cell_type": "markdown",
   "id": "955dfda8-5857-4f0e-8aad-2bfa0508471c",
   "metadata": {
    "tags": []
   },
   "source": [
    "## Set up the grid, add sliders and figure\n",
    "\n",
    "Again, everything being done manually for now. Tidy up with automated `plot_sliders` (or whatever) function later. "
   ]
  },
  {
   "cell_type": "code",
   "execution_count": 8,
   "id": "ede2edff-fd4b-4926-b250-bd33ea697762",
   "metadata": {},
   "outputs": [
    {
     "data": {
      "application/vnd.jupyter.widget-view+json": {
       "model_id": "ea41bbe27a6e4b2dbc96eae579e11e83",
       "version_major": 2,
       "version_minor": 0
      },
      "text/plain": [
       "interactive(children=(FloatSlider(value=0.0, description='$V_H$', layout=Layout(height='auto', width='400px'),…"
      ]
     },
     "metadata": {},
     "output_type": "display_data"
    }
   ],
   "source": [
    "interactive_plot = interactive(interactive_figure, potential_height=potential_height_slider, \n",
    "                               tp=tp_slider, tsoc=tsoc_slider, \n",
    "                               deltaU1=deltaU1_slider, deltaU2=deltaU2_slider)\n",
    "output = interactive_plot.children[-1]\n",
    "output.layout.height = '600px'\n",
    "interactive_plot"
   ]
  },
  {
   "cell_type": "code",
   "execution_count": 12,
   "id": "25d394b2-f6e2-46e1-9e7a-e02c187663dd",
   "metadata": {},
   "outputs": [
    {
     "name": "stdout",
     "output_type": "stream",
     "text": [
      "Note: you may need to restart the kernel to use updated packages.\n"
     ]
    }
   ],
   "source": [
    "pip freeze > requirements.txt"
   ]
  },
  {
   "cell_type": "code",
   "execution_count": null,
   "id": "1138eeb6-8dad-42c3-b8a2-a5c9502fb289",
   "metadata": {},
   "outputs": [],
   "source": []
  }
 ],
 "metadata": {
  "kernelspec": {
   "display_name": "Python 3 (ipykernel)",
   "language": "python",
   "name": "python3"
  },
  "language_info": {
   "codemirror_mode": {
    "name": "ipython",
    "version": 3
   },
   "file_extension": ".py",
   "mimetype": "text/x-python",
   "name": "python",
   "nbconvert_exporter": "python",
   "pygments_lexer": "ipython3",
   "version": "3.9.13"
  }
 },
 "nbformat": 4,
 "nbformat_minor": 5
}
